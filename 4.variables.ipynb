{
 "cells": [
  {
   "cell_type": "code",
   "execution_count": 1,
   "id": "8df26755",
   "metadata": {},
   "outputs": [],
   "source": [
    "# c lang\n",
    "# int a=5;"
   ]
  },
  {
   "cell_type": "code",
   "execution_count": 2,
   "id": "c33f486b",
   "metadata": {},
   "outputs": [],
   "source": [
    "name='vinit'"
   ]
  },
  {
   "cell_type": "code",
   "execution_count": 3,
   "id": "7b7deb57",
   "metadata": {},
   "outputs": [
    {
     "name": "stdout",
     "output_type": "stream",
     "text": [
      "vinit\n"
     ]
    }
   ],
   "source": [
    "print(name)"
   ]
  },
  {
   "cell_type": "code",
   "execution_count": 6,
   "id": "6398fa72",
   "metadata": {},
   "outputs": [
    {
     "name": "stdout",
     "output_type": "stream",
     "text": [
      "vinit rathod\n"
     ]
    }
   ],
   "source": [
    "name='vinit rathod'\n",
    "print(name\n",
    "     )"
   ]
  },
  {
   "cell_type": "code",
   "execution_count": 7,
   "id": "ebcd5824",
   "metadata": {},
   "outputs": [
    {
     "name": "stdout",
     "output_type": "stream",
     "text": [
      "939\n"
     ]
    }
   ],
   "source": [
    "name=939\n",
    "print(name)"
   ]
  },
  {
   "cell_type": "code",
   "execution_count": 8,
   "id": "209e7731",
   "metadata": {},
   "outputs": [],
   "source": [
    "#dynamic typing-->PHP\n",
    "#static typing\n"
   ]
  },
  {
   "cell_type": "code",
   "execution_count": 9,
   "id": "2f5d1d0d",
   "metadata": {},
   "outputs": [
    {
     "name": "stdout",
     "output_type": "stream",
     "text": [
      "True\n"
     ]
    }
   ],
   "source": [
    "name=True\n",
    "print(name)"
   ]
  },
  {
   "cell_type": "code",
   "execution_count": 10,
   "id": "e08c9a2b",
   "metadata": {},
   "outputs": [],
   "source": [
    "#dynamic binding\n",
    "#Static Binding\n"
   ]
  },
  {
   "cell_type": "code",
   "execution_count": 11,
   "id": "22c76e6f",
   "metadata": {},
   "outputs": [
    {
     "name": "stdout",
     "output_type": "stream",
     "text": [
      "5\n",
      "6\n",
      "7\n"
     ]
    }
   ],
   "source": [
    "# special syntax\n",
    "a=5;b=6;c=7\n",
    "print(a)\n",
    "print(b)\n",
    "print(c)"
   ]
  },
  {
   "cell_type": "code",
   "execution_count": 14,
   "id": "ba76420a",
   "metadata": {},
   "outputs": [
    {
     "name": "stdout",
     "output_type": "stream",
     "text": [
      "6\n",
      "6\n",
      "6\n"
     ]
    }
   ],
   "source": [
    "a=b=c=6;7;8\n",
    "print(a)\n",
    "print(b)\n",
    "print(c)"
   ]
  },
  {
   "cell_type": "code",
   "execution_count": null,
   "id": "23f8dd9a",
   "metadata": {},
   "outputs": [],
   "source": []
  }
 ],
 "metadata": {
  "kernelspec": {
   "display_name": "Python 3 (ipykernel)",
   "language": "python",
   "name": "python3"
  },
  "language_info": {
   "codemirror_mode": {
    "name": "ipython",
    "version": 3
   },
   "file_extension": ".py",
   "mimetype": "text/x-python",
   "name": "python",
   "nbconvert_exporter": "python",
   "pygments_lexer": "ipython3",
   "version": "3.9.12"
  }
 },
 "nbformat": 4,
 "nbformat_minor": 5
}
