{
 "cells": [
  {
   "cell_type": "code",
   "execution_count": 1,
   "id": "aab6d7fb",
   "metadata": {},
   "outputs": [
    {
     "name": "stdout",
     "output_type": "stream",
     "text": [
      "vinit\n"
     ]
    }
   ],
   "source": [
    "print(\"vinit\")"
   ]
  },
  {
   "cell_type": "code",
   "execution_count": 2,
   "id": "7eb7aac9",
   "metadata": {},
   "outputs": [
    {
     "name": "stdout",
     "output_type": "stream",
     "text": [
      "enter namevinit\n"
     ]
    },
    {
     "data": {
      "text/plain": [
       "'vinit'"
      ]
     },
     "execution_count": 2,
     "metadata": {},
     "output_type": "execute_result"
    }
   ],
   "source": [
    "#2\n",
    "input(\"enter name\")"
   ]
  },
  {
   "cell_type": "code",
   "execution_count": 5,
   "id": "fcb4bbb7",
   "metadata": {},
   "outputs": [
    {
     "data": {
      "text/plain": [
       "bool"
      ]
     },
     "execution_count": 5,
     "metadata": {},
     "output_type": "execute_result"
    }
   ],
   "source": [
    "#3\n",
    "a=True\n",
    "type(a)"
   ]
  },
  {
   "cell_type": "code",
   "execution_count": 7,
   "id": "18e5791e",
   "metadata": {},
   "outputs": [
    {
     "data": {
      "text/plain": [
       "5.0"
      ]
     },
     "execution_count": 7,
     "metadata": {},
     "output_type": "execute_result"
    }
   ],
   "source": [
    "#4\n",
    "int(4.5)\n",
    "float(5)\n"
   ]
  },
  {
   "cell_type": "code",
   "execution_count": 8,
   "id": "80bf18d7",
   "metadata": {},
   "outputs": [
    {
     "data": {
      "text/plain": [
       "4"
      ]
     },
     "execution_count": 8,
     "metadata": {},
     "output_type": "execute_result"
    }
   ],
   "source": [
    "#5\n",
    "abs(4)"
   ]
  },
  {
   "cell_type": "code",
   "execution_count": 9,
   "id": "b301462f",
   "metadata": {},
   "outputs": [
    {
     "data": {
      "text/plain": [
       "4"
      ]
     },
     "execution_count": 9,
     "metadata": {},
     "output_type": "execute_result"
    }
   ],
   "source": [
    "abs(-4)"
   ]
  },
  {
   "cell_type": "code",
   "execution_count": 10,
   "id": "80e568d2",
   "metadata": {},
   "outputs": [
    {
     "data": {
      "text/plain": [
       "8"
      ]
     },
     "execution_count": 10,
     "metadata": {},
     "output_type": "execute_result"
    }
   ],
   "source": [
    "#6\n",
    "pow(2,3)"
   ]
  },
  {
   "cell_type": "code",
   "execution_count": 13,
   "id": "92274f2c",
   "metadata": {},
   "outputs": [
    {
     "data": {
      "text/plain": [
       "0"
      ]
     },
     "execution_count": 13,
     "metadata": {},
     "output_type": "execute_result"
    }
   ],
   "source": [
    "#7 min/max\n",
    "min(2,3,45,2,1,0)"
   ]
  },
  {
   "cell_type": "code",
   "execution_count": 16,
   "id": "b03bf0b8",
   "metadata": {},
   "outputs": [
    {
     "data": {
      "text/plain": [
       "3"
      ]
     },
     "execution_count": 16,
     "metadata": {},
     "output_type": "execute_result"
    }
   ],
   "source": [
    "#8 round\n",
    "c=22/7\n",
    "round(c)"
   ]
  },
  {
   "cell_type": "code",
   "execution_count": 17,
   "id": "950a9412",
   "metadata": {},
   "outputs": [
    {
     "data": {
      "text/plain": [
       "(2, 1)"
      ]
     },
     "execution_count": 17,
     "metadata": {},
     "output_type": "execute_result"
    }
   ],
   "source": [
    "#9 divmod\n",
    "divmod(5,2)\n",
    "#return tuple(x//y,x%y)"
   ]
  },
  {
   "cell_type": "code",
   "execution_count": 19,
   "id": "e4018f48",
   "metadata": {},
   "outputs": [
    {
     "data": {
      "text/plain": [
       "'0b101'"
      ]
     },
     "execution_count": 19,
     "metadata": {},
     "output_type": "execute_result"
    }
   ],
   "source": [
    "#10. bin/oct/hex\n",
    "bin(5)"
   ]
  },
  {
   "cell_type": "code",
   "execution_count": 20,
   "id": "a3748145",
   "metadata": {},
   "outputs": [
    {
     "data": {
      "text/plain": [
       "1925558331760"
      ]
     },
     "execution_count": 20,
     "metadata": {},
     "output_type": "execute_result"
    }
   ],
   "source": [
    "#11 id\n",
    "a=3\n",
    "id(a)"
   ]
  },
  {
   "cell_type": "code",
   "execution_count": 21,
   "id": "d525ed67",
   "metadata": {},
   "outputs": [
    {
     "data": {
      "text/plain": [
       "1925558331760"
      ]
     },
     "execution_count": 21,
     "metadata": {},
     "output_type": "execute_result"
    }
   ],
   "source": [
    "b=3\n",
    "id(b)"
   ]
  },
  {
   "cell_type": "code",
   "execution_count": 26,
   "id": "4d46684c",
   "metadata": {},
   "outputs": [
    {
     "data": {
      "text/plain": [
       "65"
      ]
     },
     "execution_count": 26,
     "metadata": {},
     "output_type": "execute_result"
    }
   ],
   "source": [
    "# 12 ord for ascii value\n",
    "ord('A')\n"
   ]
  },
  {
   "cell_type": "code",
   "execution_count": 25,
   "id": "13ffef4d",
   "metadata": {},
   "outputs": [
    {
     "data": {
      "text/plain": [
       "5"
      ]
     },
     "execution_count": 25,
     "metadata": {},
     "output_type": "execute_result"
    }
   ],
   "source": [
    "#13 len\n",
    "len(\"vinit\")\n"
   ]
  },
  {
   "cell_type": "code",
   "execution_count": 34,
   "id": "2d8f1f93",
   "metadata": {},
   "outputs": [
    {
     "data": {
      "text/plain": [
       "15"
      ]
     },
     "execution_count": 34,
     "metadata": {},
     "output_type": "execute_result"
    }
   ],
   "source": [
    "#14 sum\n",
    "sum((1,2,3,4,5))\n"
   ]
  },
  {
   "cell_type": "code",
   "execution_count": 35,
   "id": "5e6ced4a",
   "metadata": {},
   "outputs": [
    {
     "name": "stdout",
     "output_type": "stream",
     "text": [
      "Help on built-in function print in module builtins:\n",
      "\n",
      "print(...)\n",
      "    print(value, ..., sep=' ', end='\\n', file=sys.stdout, flush=False)\n",
      "    \n",
      "    Prints the values to a stream, or to sys.stdout by default.\n",
      "    Optional keyword arguments:\n",
      "    file:  a file-like object (stream); defaults to the current sys.stdout.\n",
      "    sep:   string inserted between values, default a space.\n",
      "    end:   string appended after the last value, default a newline.\n",
      "    flush: whether to forcibly flush the stream.\n",
      "\n"
     ]
    }
   ],
   "source": [
    "#help\n",
    "help(\"print\")"
   ]
  },
  {
   "cell_type": "code",
   "execution_count": null,
   "id": "0a828b05",
   "metadata": {},
   "outputs": [],
   "source": []
  }
 ],
 "metadata": {
  "kernelspec": {
   "display_name": "Python 3 (ipykernel)",
   "language": "python",
   "name": "python3"
  },
  "language_info": {
   "codemirror_mode": {
    "name": "ipython",
    "version": 3
   },
   "file_extension": ".py",
   "mimetype": "text/x-python",
   "name": "python",
   "nbconvert_exporter": "python",
   "pygments_lexer": "ipython3",
   "version": "3.9.12"
  }
 },
 "nbformat": 4,
 "nbformat_minor": 5
}
