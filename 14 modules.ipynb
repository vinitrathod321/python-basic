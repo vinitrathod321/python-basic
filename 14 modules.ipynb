{
 "cells": [
  {
   "cell_type": "markdown",
   "id": "b9dbbe62",
   "metadata": {},
   "source": [
    "## modules\n",
    "_math\n",
    "-random\n",
    "-os\n",
    "-time"
   ]
  },
  {
   "cell_type": "code",
   "execution_count": 2,
   "id": "71fc5cac",
   "metadata": {},
   "outputs": [
    {
     "name": "stdout",
     "output_type": "stream",
     "text": [
      "\n",
      "Please wait a moment while I gather a list of all available modules...\n",
      "\n"
     ]
    },
    {
     "name": "stderr",
     "output_type": "stream",
     "text": [
      "C:\\Users\\Dell\\anaconda3\\lib\\site-packages\\setuptools\\command\\install.py:34: SetuptoolsDeprecationWarning: setup.py install is deprecated. Use build and pip and other standards-based tools.\n",
      "  warnings.warn(\n",
      "WARNING: AstropyDeprecationWarning: The private astropy._erfa module has been made into its own package, pyerfa, which is a dependency of astropy and can be imported directly using \"import erfa\" [astropy._erfa]\n",
      "C:\\Users\\Dell\\anaconda3\\lib\\site-packages\\nltk\\twitter\\__init__.py:20: UserWarning: The twython library has not been installed. Some functionality from the twitter package will not be available.\n",
      "  warnings.warn(\n",
      "C:\\Users\\Dell\\anaconda3\\lib\\site-packages\\_distutils_hack\\__init__.py:30: UserWarning: Setuptools is replacing distutils.\n",
      "  warnings.warn(\"Setuptools is replacing distutils.\")\n",
      "No QCoreApplication instance found. Application patches not applied. You have to call load_stylesheet function after instantiation of QApplication to take effect. \n",
      "C:\\Users\\Dell\\anaconda3\\lib\\pkgutil.py:108: VisibleDeprecationWarning:\n",
      "\n",
      "zmq.eventloop.minitornado is deprecated in pyzmq 14.0 and will be removed.\n",
      "    Install tornado itself to use zmq with the tornado IOLoop.\n",
      "    \n",
      "\n"
     ]
    },
    {
     "name": "stdout",
     "output_type": "stream",
     "text": [
      "Cython              commctrl            mmsystem            snowballstemmer\n",
      "IPython             compileall          mock                socket\n",
      "OpenSSL             comtypes            modulefinder        socketserver\n",
      "PIL                 concurrent          mpmath              socks\n",
      "PyQt5               conda               msgpack             sockshandler\n",
      "TBB                 conda_build         msilib              sortedcollections\n",
      "__future__          conda_content_trust msvcrt              sortedcontainers\n",
      "_abc                conda_env           multidict           soupsieve\n",
      "_aix_support        conda_pack          multipledispatch    sphinx\n",
      "_argon2_cffi_bindings conda_package_handling multiprocessing     spyder\n",
      "_ast                conda_token         munkres             spyder_kernels\n",
      "_asyncio            conda_verify        mypy_extensions     sqlalchemy\n",
      "_bisect             configparser        nacl                sqlite3\n",
      "_black_version      constantly          navigator_updater   sre_compile\n",
      "_blake2             contextlib          nbclassic           sre_constants\n",
      "_bootlocale         contextvars         nbclient            sre_parse\n",
      "_bootsubprocess     cookiecutter        nbconvert           ssl\n",
      "_bz2                copy                nbformat            sspi\n",
      "_cffi_backend       copyreg             nest_asyncio        sspicon\n",
      "_codecs             crypt               netbios             stack_data\n",
      "_codecs_cn          cryptography        netrc               stat\n",
      "_codecs_hk          cssselect           networkx            statistics\n",
      "_codecs_iso2022     csv                 nltk                statsmodels\n",
      "_codecs_jp          ctypes              nntplib             string\n",
      "_codecs_kr          curl                nose                stringprep\n",
      "_codecs_tw          curses              notebook            struct\n",
      "_collections        cwp                 nt                  subprocess\n",
      "_collections_abc    cycler              ntpath              sunau\n",
      "_compat_pickle      cython              ntsecuritycon       symbol\n",
      "_compression        cytoolz             nturl2path          sympy\n",
      "_contextvars        daal4py             numba               symtable\n",
      "_csv                dask                numbergen           sys\n",
      "_ctypes             dataclasses         numbers             sysconfig\n",
      "_ctypes_test        datashader          numexpr             tables\n",
      "_datetime           datashape           numpy               tabnanny\n",
      "_decimal            datetime            numpydoc            tabulate\n",
      "_distutils_hack     dateutil            odbc                tarfile\n",
      "_elementtree        dbi                 olefile             tbb\n",
      "_functools          dbm                 onedal              tblib\n",
      "_hashlib            dde                 opcode              telnetlib\n",
      "_heapq              debugpy             openpyxl            tempfile\n",
      "_imp                decimal             operator            tenacity\n",
      "_io                 decorator           optparse            terminado\n",
      "_json               defusedxml          os                  test\n",
      "_locale             diff_match_patch    packaging           test_pycosat\n",
      "_lsprof             difflib             pandas              testpath\n",
      "_lzma               dis                 pandocfilters       text_unidecode\n",
      "_markupbase         distlib             panel               textdistance\n",
      "_md5                distributed         param               textwrap\n",
      "_msi                distutils           paramiko            this\n",
      "_multibytecodec     doctest             parsel              threading\n",
      "_multiprocessing    docutils            parser              threadpoolctl\n",
      "_nsis               email               parso               three_merge\n",
      "_opcode             encodings           partd               tifffile\n",
      "_operator           ensurepip           past                time\n",
      "_osx_support        entrypoints         pathlib             timeit\n",
      "_overlapped         enum                pathspec            timer\n",
      "_peg_parser         erfa                patsy               tinycss\n",
      "_pickle             errno               pdb                 tkinter\n",
      "_plotly_future_     et_xmlfile          pep8                tldextract\n",
      "_plotly_utils       executing           perfmon             tlz\n",
      "_py_abc             fastjsonschema      pexpect             token\n",
      "_pydecimal          faulthandler        pickle              tokenize\n",
      "_pyio               filecmp             pickleshare         toml\n",
      "_pyrsistent_version fileinput           pickletools         tomli\n",
      "_pytest             filelock            pip                 toolz\n",
      "_queue              flake8              pipes               tornado\n",
      "_random             flask               pkg_resources       tqdm\n",
      "_sha1               fnmatch             pkginfo             trace\n",
      "_sha256             fontTools           pkgutil             traceback\n",
      "_sha3               formatter           platform            tracemalloc\n",
      "_sha512             fractions           platformdirs        traitlets\n",
      "_signal             frozenlist          plistlib            tty\n",
      "_sitebuiltins       fsspec              plotly              turtle\n",
      "_socket             ftplib              pluggy              turtledemo\n",
      "_sqlite3            functools           poplib              twisted\n",
      "_sre                future              posixpath           typed_ast\n",
      "_ssl                gc                  poyo                types\n",
      "_stat               genericpath         pprint              typing\n",
      "_statistics         gensim              profile             typing_extensions\n",
      "_string             getopt              prometheus_client   ujson\n",
      "_strptime           getpass             prompt_toolkit      unicodedata\n",
      "_struct             gettext             protego             unidecode\n",
      "_symtable           glob                pstats              unittest\n",
      "_system_path        glob2               psutil              urllib\n",
      "_testbuffer         google_crc32c       pty                 urllib3\n",
      "_testcapi           graphlib            ptyprocess          uu\n",
      "_testconsole        greenlet            pure_eval           uuid\n",
      "_testimportmultiple grpc                pvectorc            venv\n",
      "_testinternalcapi   gzip                py                  virtualenv\n",
      "_testmultiphase     h5py                py_compile          w3lib\n",
      "_thread             hamcrest            pyasn1              warnings\n",
      "_threading_local    hashlib             pyasn1_modules      watchdog\n",
      "_tkinter            heapdict            pyclbr              wave\n",
      "_tracemalloc        heapq               pycodestyle         wcwidth\n",
      "_uuid               hmac                pycosat             weakref\n",
      "_warnings           holoviews           pycparser           webbrowser\n",
      "_weakref            html                pyct                webencodings\n",
      "_weakrefset         http                pycurl              websocket\n",
      "_win32sysloader     hvplot              pydispatch          werkzeug\n",
      "_winapi             hyperlink           pydoc               wheel\n",
      "_winxptheme         idlelib             pydoc_data          widgetsnbextension\n",
      "_xxsubinterpreters  idna                pydocstyle          win2kras\n",
      "_yaml               imagecodecs         pyexpat             win32api\n",
      "_zoneinfo           imageio             pyflakes            win32clipboard\n",
      "abc                 imagesize           pygments            win32com\n",
      "adodbapi            imaplib             pylab               win32con\n",
      "afxres              imghdr              pylint              win32console\n",
      "aifc                imp                 pyls_spyder         win32cred\n",
      "aiohttp             importlib           pylsp               win32crypt\n",
      "aiosignal           importlib_metadata  pylsp_black         win32cryptcon\n",
      "alabaster           incremental         pylsp_jsonrpc       win32ctypes\n",
      "anaconda_navigator  inflection          pyodbc              win32event\n",
      "anaconda_project    iniconfig           pyparsing           win32evtlog\n",
      "antigravity         inspect             pyreadline          win32evtlogutil\n",
      "anyio               intake              pyrsistent          win32file\n",
      "appdirs             intervaltree        pytest              win32gui\n",
      "argon2              io                  pythoncom           win32gui_struct\n",
      "argparse            ipaddress           pytz                win32help\n",
      "array               ipykernel           pyviz_comms         win32inet\n",
      "arrow               ipykernel_launcher  pywin               win32inetcon\n",
      "ast                 ipython_genutils    pywin32_bootstrap   win32job\n",
      "astroid             ipywidgets          pywin32_testutil    win32lz\n",
      "astropy             isapi               pywintypes          win32net\n",
      "asttokens           isort               pywt                win32netcon\n",
      "async_timeout       isympy              pyximport           win32pdh\n",
      "asynchat            itemadapter         qdarkstyle          win32pdhquery\n",
      "asyncio             itemloaders         qstylizer           win32pdhutil\n",
      "asyncore            itertools           qtawesome           win32pipe\n",
      "atexit              itsdangerous        qtconsole           win32print\n",
      "atomicwrites        jdcal               qtpy                win32process\n",
      "attr                jedi                queue               win32profile\n",
      "attrs               jinja2              queuelib            win32ras\n",
      "audioop             jinja2_time         quopri              win32rcparser\n",
      "automat             jmespath            random              win32security\n",
      "autopep8            joblib              rasutil             win32service\n",
      "babel               json                re                  win32serviceutil\n",
      "backcall            json5               readline            win32timezone\n",
      "backports           jsonschema          regcheck            win32trace\n",
      "base64              jupyter             regex               win32traceutil\n",
      "bcrypt              jupyter_client      regutil             win32transaction\n",
      "bdb                 jupyter_console     repo_cli            win32ts\n",
      "binaryornot         jupyter_core        reprlib             win32ui\n",
      "binascii            jupyter_server      requests            win32uiole\n",
      "binhex              jupyterlab          requests_file       win32verstamp\n",
      "binstar_client      jupyterlab_plotly   rlcompleter         win32wnet\n",
      "bisect              jupyterlab_pygments rope                win_inet_pton\n",
      "bitarray            jupyterlab_server   rsa                 win_unicode_console\n",
      "bkcharts            jupyterlab_widgets  rtree               wincertstore\n",
      "black               jwt                 ruamel_yaml         winerror\n",
      "blackd              keyring             run                 winioctlcon\n",
      "bleach              keyword             runpy               winnt\n",
      "blib2to3            kiwisolver          s3transfer          winperf\n",
      "bokeh               lazy_object_proxy   sched               winpty\n",
      "boto3               lib2to3             scipy               winreg\n",
      "botocore            libarchive          scrapy              winsound\n",
      "bottleneck          libfuturize         seaborn             winxpgui\n",
      "brotli              libpasteurize       secrets             winxptheme\n",
      "bs4                 lief                select              wrapt\n",
      "builtins            linecache           selectors           wsgiref\n",
      "bz2                 llvmlite            send2trash          xarray\n",
      "cProfile            locale              service_identity    xdrlib\n",
      "cachetools          locket              servicemanager      xlrd\n",
      "calendar            logging             setuptools          xlsxwriter\n",
      "certifi             lxml                shelve              xlwings\n",
      "cffi                lzma                shlex               xml\n",
      "cgi                 mailbox             shutil              xmlrpc\n",
      "cgitb               mailcap             signal              xxsubtype\n",
      "chardet             markdown            sip                 yaml\n",
      "charset_normalizer  markupsafe          sipconfig           yapf\n",
      "chunk               marshal             sipdistutils        yapftests\n",
      "click               math                site                yarl\n",
      "cloudpickle         matplotlib          six                 zict\n",
      "clyent              matplotlib_inline   skimage             zipapp\n",
      "cmath               mccabe              sklearn             zipfile\n",
      "cmd                 menuinst            sklearnex           zipimport\n",
      "code                mimetypes           slugify             zipp\n",
      "codecs              mistune             smart_open          zlib\n",
      "codeop              mkl                 smtpd               zmq\n",
      "collections         mkl_fft             smtplib             zoneinfo\n",
      "colorama            mkl_random          snappy              zope\n",
      "colorcet            mmap                sndhdr              \n",
      "colorsys            mmapfile            sniffio             \n",
      "\n",
      "Enter any module name to get more help.  Or, type \"modules spam\" to search\n",
      "for modules whose name or summary contain the string \"spam\".\n",
      "\n"
     ]
    }
   ],
   "source": [
    "help('modules')"
   ]
  },
  {
   "cell_type": "code",
   "execution_count": 3,
   "id": "290e9938",
   "metadata": {},
   "outputs": [],
   "source": [
    "import math"
   ]
  },
  {
   "cell_type": "code",
   "execution_count": 4,
   "id": "2829355b",
   "metadata": {},
   "outputs": [
    {
     "data": {
      "text/plain": [
       "2.718281828459045"
      ]
     },
     "execution_count": 4,
     "metadata": {},
     "output_type": "execute_result"
    }
   ],
   "source": [
    "math.e"
   ]
  },
  {
   "cell_type": "code",
   "execution_count": 6,
   "id": "57b40c76",
   "metadata": {},
   "outputs": [
    {
     "data": {
      "text/plain": [
       "120"
      ]
     },
     "execution_count": 6,
     "metadata": {},
     "output_type": "execute_result"
    }
   ],
   "source": [
    "math.factorial(5)"
   ]
  },
  {
   "cell_type": "code",
   "execution_count": 11,
   "id": "e813f58d",
   "metadata": {},
   "outputs": [
    {
     "data": {
      "text/plain": [
       "(0.0, 5.0)"
      ]
     },
     "execution_count": 11,
     "metadata": {},
     "output_type": "execute_result"
    }
   ],
   "source": [
    "math.modf(5)"
   ]
  },
  {
   "cell_type": "code",
   "execution_count": 12,
   "id": "7d1493d2",
   "metadata": {},
   "outputs": [],
   "source": [
    "import random"
   ]
  },
  {
   "cell_type": "code",
   "execution_count": 13,
   "id": "ef0cee6b",
   "metadata": {},
   "outputs": [
    {
     "data": {
      "text/plain": [
       "63"
      ]
     },
     "execution_count": 13,
     "metadata": {},
     "output_type": "execute_result"
    }
   ],
   "source": [
    "random.randint(1,100)"
   ]
  },
  {
   "cell_type": "code",
   "execution_count": 20,
   "id": "1e6a5c84",
   "metadata": {},
   "outputs": [
    {
     "data": {
      "text/plain": [
       "[5, 4, 2, 1, 3]"
      ]
     },
     "execution_count": 20,
     "metadata": {},
     "output_type": "execute_result"
    }
   ],
   "source": [
    "a=[1,2,3,4,5]\n",
    "random.shuffle(a)\n",
    "a"
   ]
  },
  {
   "cell_type": "code",
   "execution_count": 24,
   "id": "e1b84bac",
   "metadata": {},
   "outputs": [
    {
     "data": {
      "text/plain": [
       "1663699629.9031775"
      ]
     },
     "execution_count": 24,
     "metadata": {},
     "output_type": "execute_result"
    }
   ],
   "source": [
    "import time\n",
    "time.time()"
   ]
  },
  {
   "cell_type": "code",
   "execution_count": 26,
   "id": "b4b50797",
   "metadata": {},
   "outputs": [
    {
     "data": {
      "text/plain": [
       "'Wed Sep 21 00:17:31 2022'"
      ]
     },
     "execution_count": 26,
     "metadata": {},
     "output_type": "execute_result"
    }
   ],
   "source": [
    "time.ctime()"
   ]
  },
  {
   "cell_type": "code",
   "execution_count": 28,
   "id": "87e0f132",
   "metadata": {},
   "outputs": [
    {
     "name": "stdout",
     "output_type": "stream",
     "text": [
      "hello\n",
      "world\n"
     ]
    }
   ],
   "source": [
    "print('hello')\n",
    "time.sleep(5)\n",
    "print('world') "
   ]
  },
  {
   "cell_type": "code",
   "execution_count": 29,
   "id": "4d54a636",
   "metadata": {},
   "outputs": [],
   "source": [
    "import os"
   ]
  },
  {
   "cell_type": "code",
   "execution_count": 30,
   "id": "4e40205c",
   "metadata": {},
   "outputs": [
    {
     "data": {
      "text/plain": [
       "'C:\\\\Users\\\\Dell\\\\DATA SCIENCE\\\\python22'"
      ]
     },
     "execution_count": 30,
     "metadata": {},
     "output_type": "execute_result"
    }
   ],
   "source": [
    "os.getcwd()"
   ]
  },
  {
   "cell_type": "code",
   "execution_count": null,
   "id": "3cb65fa8",
   "metadata": {},
   "outputs": [],
   "source": []
  }
 ],
 "metadata": {
  "kernelspec": {
   "display_name": "Python 3 (ipykernel)",
   "language": "python",
   "name": "python3"
  },
  "language_info": {
   "codemirror_mode": {
    "name": "ipython",
    "version": 3
   },
   "file_extension": ".py",
   "mimetype": "text/x-python",
   "name": "python",
   "nbconvert_exporter": "python",
   "pygments_lexer": "ipython3",
   "version": "3.9.12"
  }
 },
 "nbformat": 4,
 "nbformat_minor": 5
}
