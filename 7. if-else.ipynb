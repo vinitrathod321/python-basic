{
 "cells": [
  {
   "cell_type": "code",
   "execution_count": null,
   "id": "655f8da8",
   "metadata": {},
   "outputs": [],
   "source": [
    "email=input('apna email bata')\n",
    "\n",
    "if '@' in email:\n",
    "    password=input('password bata:')\n",
    "    \n",
    "    if email==\"vinitrathod321@gmail.com\" and password==\"1234\":\n",
    "        print('welcome')\n",
    "    elif email=='vinitrathod321@gmail.com' and password!=\"1234\":\n",
    "        print('password galat he ')\n",
    "        password=input('password fir se dal')\n",
    "        if password==\"1234\":\n",
    "            print('finally correct')\n",
    "        else:\n",
    "            print(\"still galat\")\n",
    "    else:\n",
    "        print('incorrect credencials')\n",
    "else:  \n",
    "    print(\"fir se dal\")"
   ]
  },
  {
   "cell_type": "code",
   "execution_count": 11,
   "id": "d34ba18e",
   "metadata": {},
   "outputs": [
    {
     "name": "stdout",
     "output_type": "stream",
     "text": [
      "email dalvinit@ef\n",
      "good\n"
     ]
    }
   ],
   "source": [
    "email=input('email dal')\n",
    "if '@' in email:\n",
    "    print('good')\n",
    "else:\n",
    "    print('fir se dal')"
   ]
  },
  {
   "cell_type": "code",
   "execution_count": null,
   "id": "681d86c1",
   "metadata": {},
   "outputs": [],
   "source": [
    "name=input(\"enter name:\")\n",
    "if 'ayushi' in name:\n",
    "    print(\"smile\")\n",
    "else:\n",
    "    print(\"try again\")"
   ]
  },
  {
   "cell_type": "code",
   "execution_count": null,
   "id": "305be0cb",
   "metadata": {},
   "outputs": [],
   "source": [
    "name=input(\"enter name:\")\n",
    "if 'ayushi' in name:\n",
    "    print(\"smile\")\n",
    "else:\n",
    "    print(\"try again\")"
   ]
  },
  {
   "cell_type": "code",
   "execution_count": null,
   "id": "b38a2a3f",
   "metadata": {},
   "outputs": [],
   "source": []
  }
 ],
 "metadata": {
  "kernelspec": {
   "display_name": "Python 3 (ipykernel)",
   "language": "python",
   "name": "python3"
  },
  "language_info": {
   "codemirror_mode": {
    "name": "ipython",
    "version": 3
   },
   "file_extension": ".py",
   "mimetype": "text/x-python",
   "name": "python",
   "nbconvert_exporter": "python",
   "pygments_lexer": "ipython3",
   "version": "3.9.12"
  }
 },
 "nbformat": 4,
 "nbformat_minor": 5
}
