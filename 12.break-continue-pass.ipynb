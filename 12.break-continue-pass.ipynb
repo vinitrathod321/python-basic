{
 "cells": [
  {
   "cell_type": "markdown",
   "id": "21ac3eed",
   "metadata": {},
   "source": [
    "### break ke baad terminat ho jata he"
   ]
  },
  {
   "cell_type": "code",
   "execution_count": 2,
   "id": "f28b3cb8",
   "metadata": {},
   "outputs": [
    {
     "name": "stdout",
     "output_type": "stream",
     "text": [
      "1\n",
      "2\n",
      "3\n",
      "4\n"
     ]
    }
   ],
   "source": [
    "for i in  range(1,11):\n",
    "    if i==5:\n",
    "        break\n",
    "    print(i)    "
   ]
  },
  {
   "cell_type": "markdown",
   "id": "882d5cba",
   "metadata": {},
   "source": [
    "### continue me uske just bad wala tarminat ho jayega or loop 1 se increase ho jayega"
   ]
  },
  {
   "cell_type": "code",
   "execution_count": 3,
   "id": "6bd7da55",
   "metadata": {},
   "outputs": [
    {
     "name": "stdout",
     "output_type": "stream",
     "text": [
      "1\n",
      "2\n",
      "3\n",
      "4\n",
      "6\n",
      "7\n",
      "8\n",
      "9\n",
      "10\n"
     ]
    }
   ],
   "source": [
    "for i in range(1,11):\n",
    "    if i==5:\n",
    "        continue\n",
    "    print(i)    \n",
    "        "
   ]
  },
  {
   "cell_type": "markdown",
   "id": "ac575c16",
   "metadata": {},
   "source": [
    "### ager pata nhi ho kya likhna he to pass ka use karte he "
   ]
  },
  {
   "cell_type": "code",
   "execution_count": 5,
   "id": "09ef1d2c",
   "metadata": {},
   "outputs": [],
   "source": [
    "for i in range(1,10):\n",
    "    pass\n",
    "    "
   ]
  },
  {
   "cell_type": "code",
   "execution_count": null,
   "id": "780e0919",
   "metadata": {},
   "outputs": [],
   "source": []
  }
 ],
 "metadata": {
  "kernelspec": {
   "display_name": "Python 3 (ipykernel)",
   "language": "python",
   "name": "python3"
  },
  "language_info": {
   "codemirror_mode": {
    "name": "ipython",
    "version": 3
   },
   "file_extension": ".py",
   "mimetype": "text/x-python",
   "name": "python",
   "nbconvert_exporter": "python",
   "pygments_lexer": "ipython3",
   "version": "3.9.12"
  }
 },
 "nbformat": 4,
 "nbformat_minor": 5
}
