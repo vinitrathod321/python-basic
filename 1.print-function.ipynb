{
 "cells": [
  {
   "cell_type": "code",
   "execution_count": 1,
   "id": "4e0a52b0",
   "metadata": {},
   "outputs": [
    {
     "name": "stdout",
     "output_type": "stream",
     "text": [
      "hello world\n"
     ]
    }
   ],
   "source": [
    "print('hello world')"
   ]
  },
  {
   "cell_type": "code",
   "execution_count": 2,
   "id": "cba2a104",
   "metadata": {},
   "outputs": [
    {
     "name": "stdout",
     "output_type": "stream",
     "text": [
      "5\n"
     ]
    }
   ],
   "source": [
    "print(5)"
   ]
  },
  {
   "cell_type": "code",
   "execution_count": 3,
   "id": "551cbf02",
   "metadata": {},
   "outputs": [
    {
     "name": "stdout",
     "output_type": "stream",
     "text": [
      "True\n"
     ]
    }
   ],
   "source": [
    "print(True)"
   ]
  },
  {
   "cell_type": "code",
   "execution_count": 4,
   "id": "486137a1",
   "metadata": {},
   "outputs": [
    {
     "name": "stdout",
     "output_type": "stream",
     "text": [
      "['vinit', 'rathod']\n"
     ]
    }
   ],
   "source": [
    "print(['vinit','rathod'])"
   ]
  },
  {
   "cell_type": "code",
   "execution_count": 5,
   "id": "29c727d4",
   "metadata": {},
   "outputs": [
    {
     "name": "stdout",
     "output_type": "stream",
     "text": [
      "vinit rathod 5 True\n"
     ]
    }
   ],
   "source": [
    "print('vinit','rathod',5,True)"
   ]
  },
  {
   "cell_type": "code",
   "execution_count": 6,
   "id": "6ea44762",
   "metadata": {},
   "outputs": [
    {
     "name": "stdout",
     "output_type": "stream",
     "text": [
      "vinit/rathod/5/True\n"
     ]
    }
   ],
   "source": [
    "print('vinit','rathod',5,True,sep='/')"
   ]
  },
  {
   "cell_type": "code",
   "execution_count": 8,
   "id": "fabe6462",
   "metadata": {},
   "outputs": [
    {
     "name": "stdout",
     "output_type": "stream",
     "text": [
      "vinit-rathod-5-True\n"
     ]
    }
   ],
   "source": [
    "print('vinit','rathod',5,True,sep='-')"
   ]
  },
  {
   "cell_type": "code",
   "execution_count": 9,
   "id": "9b361a4e",
   "metadata": {},
   "outputs": [
    {
     "name": "stdout",
     "output_type": "stream",
     "text": [
      "vinit rathod 5 True vinit rathod 5 True\n"
     ]
    }
   ],
   "source": [
    "print('vinit','rathod',5,True,end=' ')\n",
    "print('vinit','rathod',5,True)"
   ]
  },
  {
   "cell_type": "code",
   "execution_count": null,
   "id": "f0b3b452",
   "metadata": {},
   "outputs": [],
   "source": []
  }
 ],
 "metadata": {
  "kernelspec": {
   "display_name": "Python 3 (ipykernel)",
   "language": "python",
   "name": "python3"
  },
  "language_info": {
   "codemirror_mode": {
    "name": "ipython",
    "version": 3
   },
   "file_extension": ".py",
   "mimetype": "text/x-python",
   "name": "python",
   "nbconvert_exporter": "python",
   "pygments_lexer": "ipython3",
   "version": "3.9.12"
  }
 },
 "nbformat": 4,
 "nbformat_minor": 5
}
