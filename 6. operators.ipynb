{
 "cells": [
  {
   "cell_type": "markdown",
   "id": "8f8bf25f",
   "metadata": {},
   "source": [
    "## operators"
   ]
  },
  {
   "cell_type": "markdown",
   "id": "e2e67ce4",
   "metadata": {},
   "source": [
    "### operators \n",
    "\n",
    "1 Arithmetic op\n",
    "2 Comparison op\n",
    "3 Logical op\n",
    "4 Bitwise op\n",
    "5 Assignment op\n",
    "6 Identity op\n",
    "7 Membership op\n"
   ]
  },
  {
   "cell_type": "code",
   "execution_count": null,
   "id": "417c336e",
   "metadata": {},
   "outputs": [],
   "source": [
    "x=10\n",
    "y=2\n",
    "print(x+y)"
   ]
  },
  {
   "cell_type": "code",
   "execution_count": null,
   "id": "a736b818",
   "metadata": {},
   "outputs": [],
   "source": [
    "print(x-y)"
   ]
  },
  {
   "cell_type": "code",
   "execution_count": null,
   "id": "4aa4448e",
   "metadata": {},
   "outputs": [],
   "source": [
    "print(x*y)"
   ]
  },
  {
   "cell_type": "code",
   "execution_count": null,
   "id": "efcf1cb0",
   "metadata": {},
   "outputs": [],
   "source": [
    "print(x/y)"
   ]
  },
  {
   "cell_type": "code",
   "execution_count": null,
   "id": "f8ee00c7",
   "metadata": {},
   "outputs": [],
   "source": [
    "print(y/x)"
   ]
  },
  {
   "cell_type": "code",
   "execution_count": null,
   "id": "98bdc5be",
   "metadata": {},
   "outputs": [],
   "source": [
    "print(x%y)"
   ]
  },
  {
   "cell_type": "code",
   "execution_count": null,
   "id": "d9e123c1",
   "metadata": {},
   "outputs": [],
   "source": [
    "print(y%x)"
   ]
  },
  {
   "cell_type": "code",
   "execution_count": 2,
   "id": "99ecd62e",
   "metadata": {},
   "outputs": [
    {
     "name": "stdout",
     "output_type": "stream",
     "text": [
      "216\n"
     ]
    }
   ],
   "source": [
    "x=6\n",
    "y=3\n",
    "print(x**y)\n"
   ]
  },
  {
   "cell_type": "code",
   "execution_count": null,
   "id": "f83badf5",
   "metadata": {},
   "outputs": [],
   "source": [
    "print(y**x)"
   ]
  },
  {
   "cell_type": "code",
   "execution_count": 4,
   "id": "97ff3f8a",
   "metadata": {},
   "outputs": [
    {
     "name": "stdout",
     "output_type": "stream",
     "text": [
      "3\n"
     ]
    }
   ],
   "source": [
    "x=7\n",
    "print(x//2) #integer division 2.5=2"
   ]
  },
  {
   "cell_type": "code",
   "execution_count": 5,
   "id": "4cb11992",
   "metadata": {},
   "outputs": [
    {
     "name": "stdout",
     "output_type": "stream",
     "text": [
      "False\n"
     ]
    }
   ],
   "source": [
    "print(x<y)"
   ]
  },
  {
   "cell_type": "code",
   "execution_count": 6,
   "id": "ee849ea5",
   "metadata": {},
   "outputs": [
    {
     "name": "stdout",
     "output_type": "stream",
     "text": [
      "True\n"
     ]
    }
   ],
   "source": [
    "print(x>y)"
   ]
  },
  {
   "cell_type": "code",
   "execution_count": 7,
   "id": "9fea0cf5",
   "metadata": {},
   "outputs": [
    {
     "name": "stdout",
     "output_type": "stream",
     "text": [
      "False\n"
     ]
    }
   ],
   "source": [
    "print(x<=y)"
   ]
  },
  {
   "cell_type": "code",
   "execution_count": 8,
   "id": "9613359b",
   "metadata": {},
   "outputs": [
    {
     "name": "stdout",
     "output_type": "stream",
     "text": [
      "True\n"
     ]
    }
   ],
   "source": [
    "print(x>=y)"
   ]
  },
  {
   "cell_type": "code",
   "execution_count": 9,
   "id": "03338928",
   "metadata": {},
   "outputs": [
    {
     "name": "stdout",
     "output_type": "stream",
     "text": [
      "False\n"
     ]
    }
   ],
   "source": [
    "print(x==y)"
   ]
  },
  {
   "cell_type": "code",
   "execution_count": 10,
   "id": "b0afdf2d",
   "metadata": {},
   "outputs": [
    {
     "name": "stdout",
     "output_type": "stream",
     "text": [
      "True\n"
     ]
    }
   ],
   "source": [
    "print(x!=y)"
   ]
  },
  {
   "cell_type": "code",
   "execution_count": 27,
   "id": "97cb1550",
   "metadata": {},
   "outputs": [
    {
     "name": "stdout",
     "output_type": "stream",
     "text": [
      "True\n",
      "True\n",
      "1\n"
     ]
    }
   ],
   "source": [
    "#LOGICAL\n",
    "x=True\n",
    "y=0\n",
    "print(x or y)\n",
    "print(y or x)\n",
    "print(x+y)"
   ]
  },
  {
   "cell_type": "code",
   "execution_count": 28,
   "id": "3b08f35e",
   "metadata": {},
   "outputs": [
    {
     "name": "stdout",
     "output_type": "stream",
     "text": [
      "0\n"
     ]
    }
   ],
   "source": [
    "print(x and y)"
   ]
  },
  {
   "cell_type": "code",
   "execution_count": 29,
   "id": "3cc99568",
   "metadata": {},
   "outputs": [
    {
     "name": "stdout",
     "output_type": "stream",
     "text": [
      "0\n"
     ]
    }
   ],
   "source": [
    "print(y and x)"
   ]
  },
  {
   "cell_type": "code",
   "execution_count": null,
   "id": "989171fb",
   "metadata": {},
   "outputs": [],
   "source": [
    "print(not x)"
   ]
  },
  {
   "cell_type": "code",
   "execution_count": null,
   "id": "d71a64bd",
   "metadata": {},
   "outputs": [],
   "source": [
    "print(not y)"
   ]
  },
  {
   "cell_type": "code",
   "execution_count": null,
   "id": "2b6412ca",
   "metadata": {},
   "outputs": [],
   "source": [
    "#bitwise\n",
    "\n",
    "x=2\n",
    "y=3\n",
    "print(x & y)\n",
    "print(x | y)"
   ]
  },
  {
   "cell_type": "code",
   "execution_count": null,
   "id": "2ea6c95f",
   "metadata": {},
   "outputs": [],
   "source": [
    "print((x>>y))"
   ]
  },
  {
   "cell_type": "code",
   "execution_count": null,
   "id": "1892b73a",
   "metadata": {},
   "outputs": [],
   "source": [
    "print(x<<y)"
   ]
  },
  {
   "cell_type": "code",
   "execution_count": null,
   "id": "a3656bd9",
   "metadata": {},
   "outputs": [],
   "source": [
    "print(~x)"
   ]
  },
  {
   "cell_type": "code",
   "execution_count": null,
   "id": "43bce5c4",
   "metadata": {},
   "outputs": [],
   "source": [
    "a=2\n",
    "a += 3#a=a+3\n",
    "print(a)"
   ]
  },
  {
   "cell_type": "code",
   "execution_count": null,
   "id": "49db7054",
   "metadata": {},
   "outputs": [],
   "source": [
    "a-=4\n",
    "print(a)"
   ]
  },
  {
   "cell_type": "code",
   "execution_count": null,
   "id": "bb88997e",
   "metadata": {},
   "outputs": [],
   "source": [
    "a=5\n",
    "a&=4\n",
    "print(a)"
   ]
  },
  {
   "cell_type": "code",
   "execution_count": null,
   "id": "504fc585",
   "metadata": {},
   "outputs": [],
   "source": [
    "a=3\n",
    "b=3\n",
    "print(a is b)"
   ]
  },
  {
   "cell_type": "code",
   "execution_count": null,
   "id": "dec2912c",
   "metadata": {},
   "outputs": [],
   "source": [
    "a='hello'\n",
    "b='hello'\n",
    "print(a is b)"
   ]
  },
  {
   "cell_type": "code",
   "execution_count": null,
   "id": "68cb977d",
   "metadata": {},
   "outputs": [],
   "source": [
    "list1=[1,2,4,6,7,\"ff\"]\n",
    "list2=[1,2,4]\n",
    "print(a is not b)"
   ]
  },
  {
   "cell_type": "code",
   "execution_count": null,
   "id": "9ae6bab7",
   "metadata": {},
   "outputs": [],
   "source": [
    "x=\"delhi\"\n",
    "print('d' in x)"
   ]
  },
  {
   "cell_type": "code",
   "execution_count": null,
   "id": "a9aaafef",
   "metadata": {},
   "outputs": [],
   "source": [
    "print('ff' in list1)"
   ]
  },
  {
   "cell_type": "code",
   "execution_count": null,
   "id": "48f3f807",
   "metadata": {},
   "outputs": [],
   "source": [
    "print(2 not in list1)"
   ]
  },
  {
   "cell_type": "code",
   "execution_count": null,
   "id": "e7ff0f5e",
   "metadata": {},
   "outputs": [],
   "source": [
    "x=True\n",
    "y=2\n",
    "print(x+y)"
   ]
  },
  {
   "cell_type": "code",
   "execution_count": null,
   "id": "038efd18",
   "metadata": {},
   "outputs": [],
   "source": []
  },
  {
   "cell_type": "code",
   "execution_count": null,
   "id": "3ddc646e",
   "metadata": {},
   "outputs": [],
   "source": []
  }
 ],
 "metadata": {
  "kernelspec": {
   "display_name": "Python 3 (ipykernel)",
   "language": "python",
   "name": "python3"
  },
  "language_info": {
   "codemirror_mode": {
    "name": "ipython",
    "version": 3
   },
   "file_extension": ".py",
   "mimetype": "text/x-python",
   "name": "python",
   "nbconvert_exporter": "python",
   "pygments_lexer": "ipython3",
   "version": "3.9.12"
  }
 },
 "nbformat": 4,
 "nbformat_minor": 5
}
