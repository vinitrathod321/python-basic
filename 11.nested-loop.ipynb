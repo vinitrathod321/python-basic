{
 "cells": [
  {
   "cell_type": "code",
   "execution_count": 17,
   "id": "f3f7b2b6",
   "metadata": {},
   "outputs": [
    {
     "name": "stdout",
     "output_type": "stream",
     "text": [
      "Enter the number10\n",
      "1\n",
      "22\n",
      "333\n",
      "4444\n",
      "55555\n",
      "666666\n",
      "7777777\n",
      "88888888\n",
      "999999999\n",
      "10101010101010101010\n"
     ]
    }
   ],
   "source": [
    "rows=int(input(\"Enter the number\"))\n",
    "         \n",
    "for i in range(1,rows + 1):\n",
    "     for j in range(0,i):\n",
    "            print(i,end=\"\")\n",
    "     print(\"\")         "
   ]
  },
  {
   "cell_type": "code",
   "execution_count": null,
   "id": "52a960d8",
   "metadata": {},
   "outputs": [],
   "source": []
  }
 ],
 "metadata": {
  "kernelspec": {
   "display_name": "Python 3 (ipykernel)",
   "language": "python",
   "name": "python3"
  },
  "language_info": {
   "codemirror_mode": {
    "name": "ipython",
    "version": 3
   },
   "file_extension": ".py",
   "mimetype": "text/x-python",
   "name": "python",
   "nbconvert_exporter": "python",
   "pygments_lexer": "ipython3",
   "version": "3.9.12"
  }
 },
 "nbformat": 4,
 "nbformat_minor": 5
}
