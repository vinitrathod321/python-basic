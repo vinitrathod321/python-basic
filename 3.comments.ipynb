{
 "cells": [
  {
   "cell_type": "code",
   "execution_count": 2,
   "id": "11c5e5e4",
   "metadata": {},
   "outputs": [],
   "source": [
    "#comments"
   ]
  },
  {
   "cell_type": "code",
   "execution_count": 3,
   "id": "4c629591",
   "metadata": {},
   "outputs": [],
   "source": [
    "# this is comment"
   ]
  },
  {
   "cell_type": "code",
   "execution_count": 4,
   "id": "a8b4c3b1",
   "metadata": {},
   "outputs": [],
   "source": [
    "# there is no multi line comments in python"
   ]
  },
  {
   "cell_type": "code",
   "execution_count": null,
   "id": "7c301f59",
   "metadata": {},
   "outputs": [],
   "source": []
  }
 ],
 "metadata": {
  "kernelspec": {
   "display_name": "Python 3 (ipykernel)",
   "language": "python",
   "name": "python3"
  },
  "language_info": {
   "codemirror_mode": {
    "name": "ipython",
    "version": 3
   },
   "file_extension": ".py",
   "mimetype": "text/x-python",
   "name": "python",
   "nbconvert_exporter": "python",
   "pygments_lexer": "ipython3",
   "version": "3.9.12"
  }
 },
 "nbformat": 4,
 "nbformat_minor": 5
}
