{
 "cells": [
  {
   "cell_type": "code",
   "execution_count": 1,
   "id": "89146c78",
   "metadata": {},
   "outputs": [
    {
     "name": "stdout",
     "output_type": "stream",
     "text": [
      "4\n",
      "inf\n"
     ]
    }
   ],
   "source": [
    "#integer\n",
    "print(4)\n",
    "print(1e309)"
   ]
  },
  {
   "cell_type": "code",
   "execution_count": 2,
   "id": "3cd6800a",
   "metadata": {},
   "outputs": [
    {
     "name": "stdout",
     "output_type": "stream",
     "text": [
      "5.7\n"
     ]
    }
   ],
   "source": [
    "#float\n",
    "print(5.7)"
   ]
  },
  {
   "cell_type": "code",
   "execution_count": 3,
   "id": "8d37add4",
   "metadata": {},
   "outputs": [
    {
     "name": "stdout",
     "output_type": "stream",
     "text": [
      "vinit\n",
      "vinit\n",
      "vinit\n",
      "vinit\n"
     ]
    }
   ],
   "source": [
    "#string\n",
    "print('vinit')\n",
    "print(\"vinit\")\n",
    "print(\"\"\"vinit\"\"\")\n",
    "print('''vinit''')"
   ]
  },
  {
   "cell_type": "code",
   "execution_count": 4,
   "id": "e3e9e10c",
   "metadata": {},
   "outputs": [
    {
     "name": "stdout",
     "output_type": "stream",
     "text": [
      "[3, 4.5, 5, 6, 7, 'hi']\n"
     ]
    }
   ],
   "source": [
    "#list\n",
    "print([3,4.5,5,6,7,'hi'])"
   ]
  },
  {
   "cell_type": "code",
   "execution_count": 5,
   "id": "03a03c4f",
   "metadata": {},
   "outputs": [
    {
     "name": "stdout",
     "output_type": "stream",
     "text": [
      "(4, 5, 6, 4, 2, 2)\n"
     ]
    }
   ],
   "source": [
    "#tuples\n",
    "print((4,5,6,4,2,2))"
   ]
  },
  {
   "cell_type": "code",
   "execution_count": 7,
   "id": "a3faef56",
   "metadata": {},
   "outputs": [
    {
     "name": "stdout",
     "output_type": "stream",
     "text": [
      "{'vinit': 'rathod', 'age': 23}\n"
     ]
    }
   ],
   "source": [
    "#dictionary\n",
    "print({\"vinit\":\"rathod\",'age':23})"
   ]
  },
  {
   "cell_type": "code",
   "execution_count": 10,
   "id": "e14f5c1d",
   "metadata": {},
   "outputs": [
    {
     "name": "stdout",
     "output_type": "stream",
     "text": [
      "{2, 3, 4, 5, 6}\n"
     ]
    }
   ],
   "source": [
    "#set\n",
    "print({2,3,4,5,6})\n"
   ]
  },
  {
   "cell_type": "code",
   "execution_count": null,
   "id": "b1b3c011",
   "metadata": {},
   "outputs": [],
   "source": []
  }
 ],
 "metadata": {
  "kernelspec": {
   "display_name": "Python 3 (ipykernel)",
   "language": "python",
   "name": "python3"
  },
  "language_info": {
   "codemirror_mode": {
    "name": "ipython",
    "version": 3
   },
   "file_extension": ".py",
   "mimetype": "text/x-python",
   "name": "python",
   "nbconvert_exporter": "python",
   "pygments_lexer": "ipython3",
   "version": "3.9.12"
  }
 },
 "nbformat": 4,
 "nbformat_minor": 5
}
