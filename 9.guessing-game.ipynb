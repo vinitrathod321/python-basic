{
 "cells": [
  {
   "cell_type": "code",
   "execution_count": 7,
   "id": "c7bb5f98",
   "metadata": {},
   "outputs": [
    {
     "name": "stdout",
     "output_type": "stream",
     "text": [
      "enter the number56\n",
      "correct\n"
     ]
    }
   ],
   "source": [
    "num=int(input('enter the number'))\n",
    "ren=56\n",
    "if num==ren:\n",
    "    print(\"correct\")\n",
    "elif num>ren:\n",
    "    print(\"nomber is begger\")\n",
    "elif num<ren:\n",
    "    print(\"number is smaller\")"
   ]
  },
  {
   "cell_type": "code",
   "execution_count": 2,
   "id": "7bf4872a",
   "metadata": {},
   "outputs": [],
   "source": [
    "#profesional\n",
    "import random"
   ]
  },
  {
   "cell_type": "code",
   "execution_count": 3,
   "id": "00eff2aa",
   "metadata": {},
   "outputs": [
    {
     "data": {
      "text/plain": [
       "47"
      ]
     },
     "execution_count": 3,
     "metadata": {},
     "output_type": "execute_result"
    }
   ],
   "source": [
    "random.randint(1,100)"
   ]
  },
  {
   "cell_type": "code",
   "execution_count": 8,
   "id": "dfe2e48b",
   "metadata": {},
   "outputs": [
    {
     "name": "stdout",
     "output_type": "stream",
     "text": [
      "3\n",
      "chal guess kar1\n",
      "guess higer\n",
      "chal guess kar:2\n",
      "guess higer\n",
      "chal guess kar:3\n",
      "sahi javab\n",
      "you took 3 attemp\n"
     ]
    }
   ],
   "source": [
    "jackpot=random.randint(1,100)\n",
    "print(jackpot)\n",
    "guess=int(input(\"chal guess kar\"))\n",
    "count=1\n",
    "while guess!=jackpot:\n",
    "    if guess<jackpot:\n",
    "        print(\"guess higer\")\n",
    "    else:\n",
    "        print(\"guess lower\")\n",
    "        \n",
    "    guess=int(input(\"chal guess kar:\"))\n",
    "    count+=1\n",
    "    \n",
    "    \n",
    "    \n",
    "print(\"sahi javab\") \n",
    "print(\"you took\",count,\"attemp\")\n",
    "\n",
    "    "
   ]
  },
  {
   "cell_type": "code",
   "execution_count": null,
   "id": "5deb6c1d",
   "metadata": {},
   "outputs": [],
   "source": []
  }
 ],
 "metadata": {
  "kernelspec": {
   "display_name": "Python 3 (ipykernel)",
   "language": "python",
   "name": "python3"
  },
  "language_info": {
   "codemirror_mode": {
    "name": "ipython",
    "version": 3
   },
   "file_extension": ".py",
   "mimetype": "text/x-python",
   "name": "python",
   "nbconvert_exporter": "python",
   "pygments_lexer": "ipython3",
   "version": "3.9.12"
  }
 },
 "nbformat": 4,
 "nbformat_minor": 5
}
